{
 "cells": [
  {
   "cell_type": "markdown",
   "metadata": {},
   "source": [
    "# Stellar spectra    A. Basic Line Formation  \n",
    "\n",
    "\n",
    "**Håkon Tansem**"
   ]
  },
  {
   "cell_type": "markdown",
   "metadata": {},
   "source": [
    "***Instructions*** *This is the template for submitting SSA. Please update your name or student identifier above. Before you submit, make sure you delete all the markdown cells with text in italic (such as these instructions). Do not delete the questions themselves. Write your answers in the cells below the questions. While only one empty cell appears before the question blocks, feel free to add any quantity of cells (code or Markdown) in the order and quantity you see fit. You can also modify the header below to suit your needs, but please don't use any non-standard packages and do not load external code. The whole notebook must run without any errors in the code. In this first experiment with notebooks, there are no page / text limits. But please write concisely, and try to keep it short!*"
   ]
  },
  {
   "cell_type": "code",
   "execution_count": 1,
   "metadata": {},
   "outputs": [],
   "source": [
    "%matplotlib widget\n",
    "\n",
    "import numpy\n",
    "import matplotlib.pyplot as plt\n",
    "from cycler import cycler\n",
    "from matplotlib import cm\n",
    "from astropy import units\n",
    "from astropy import constants\n",
    "from astropy.visualization import quantity_support\n",
    "from IPython.display import set_matplotlib_formats\n",
    "#from atom import Atom\n",
    "from astropy.io import ascii\n",
    "\n",
    "\n",
    "quantity_support()\n",
    "set_matplotlib_formats('svg')\n",
    "plt.rc('legend', frameon=False)\n",
    "\n",
    "\n",
    "\n",
    "class Atom:\n",
    "    \"\"\"\n",
    "    Reads atomic data, calculates level populations according to Boltzmann's law,\n",
    "    and ionisation fractions according to Saha's law.\n",
    "    \"\"\"\n",
    "    \n",
    "    def __init__(self, atomfile=None):\n",
    "        \"\"\"\n",
    "        Parameters\n",
    "        ----------\n",
    "        atomfile : string, optional\n",
    "            Name of file with atomic data. If not present, atomic data needs\n",
    "            to be loaded with the .read_atom method.\n",
    "        \"\"\"\n",
    "        self.loaded = False\n",
    "        if atomfile:\n",
    "            self.read_atom(atomfile)\n",
    "        \n",
    "    def read_atom(self, filename):\n",
    "        \"\"\"\n",
    "        Reads atom structure from text file.\n",
    "        \n",
    "        Parameters\n",
    "        ----------\n",
    "        filename: string\n",
    "            Name of file with atomic data.\n",
    "        \"\"\"\n",
    "        tmp = numpy.loadtxt(filename, unpack=True)\n",
    "        self.n_stages = int(tmp[2].max()) + 1\n",
    "        # Get maximum number of levels in any stage\n",
    "        self.max_levels = 0\n",
    "        for i in range(self.n_stages):\n",
    "            self.max_levels = max(self.max_levels, (tmp[2] == i).sum())\n",
    "        # Populate level energies and statistical weights\n",
    "        # Use a square array filled with NaNs for non-existing levels\n",
    "        chi = numpy.empty((self.n_stages, self.max_levels))\n",
    "        chi.fill(numpy.nan)\n",
    "        self.g = numpy.copy(chi)\n",
    "        for i in range(self.n_stages):\n",
    "            nlevels = (tmp[2] == i).sum()\n",
    "            chi[i, :nlevels] = tmp[0][tmp[2] == i]\n",
    "            self.g[i, :nlevels] = tmp[1][tmp[2] == i]\n",
    "        # Put units, convert from cm-1 to Joule\n",
    "        chi = (chi / units.cm).to('aJ', equivalencies=units.spectral())\n",
    "        # Save ionisation energies, saved as energy of first level in each stage\n",
    "        self.chi_ion = chi[:, 0].copy()\n",
    "        # Save level energies relative to ground level in each stage\n",
    "        self.chi = chi - self.chi_ion[:, numpy.newaxis]\n",
    "        self.loaded = True\n",
    "        \n",
    "    def compute_partition_function(self, temperature):\n",
    "        \"\"\"\n",
    "        Computes partition functions using the atomic level energies and\n",
    "        statistical weights.\n",
    "        \n",
    "        Parameters\n",
    "        ----------\n",
    "        temperature: astropy.units.quantity (scalar or array)\n",
    "            Gas temperature in units of K or equivalent.\n",
    "        \"\"\"\n",
    "        if not self.loaded:\n",
    "            raise ValueError(\"Missing atom structure, please load atom with read_atom()\")\n",
    "        temp = temperature[numpy.newaxis, numpy.newaxis]  # to allow broadcast\n",
    "        return numpy.nansum(self.g[..., numpy.newaxis] * \n",
    "                            numpy.exp(-self.chi[..., numpy.newaxis] / \n",
    "                                      constants.k_B / temp), axis=1)\n",
    "    \n",
    "    def compute_excitation(self, temperature):\n",
    "        \"\"\"\n",
    "        Computes the level populations relative to the ground state,\n",
    "        according to the Boltzmann law.\n",
    "        \n",
    "        Parameters\n",
    "        ----------\n",
    "        temperature: astropy.units.quantity (scalar or array)\n",
    "            Gas temperature in units of K or equivalent.\n",
    "        \"\"\"\n",
    "        pfunc = self.compute_partition_function(temperature)\n",
    "        # Reshape arrays to allow broadcast\n",
    "        temp = temperature[numpy.newaxis, numpy.newaxis]\n",
    "        g_ratio = self.g[..., numpy.newaxis] / pfunc[:, numpy.newaxis]  # relative to total number of atoms in this stage\n",
    "        chi = self.chi[..., numpy.newaxis]\n",
    "        return g_ratio * numpy.exp(-chi / (constants.k_B * temp))\n",
    "    \n",
    "    def compute_ionisation(self, temperature, electron_pressure):\n",
    "        \"\"\"\n",
    "        Computes ionisation fractions according to the Saha law.\n",
    "        \n",
    "        Parameters\n",
    "        ----------\n",
    "        temperature: astropy.units.quantity (scalar or array)\n",
    "            Gas temperature in units of K or equivalent.\n",
    "        electron_pressure: astropy.units.quantity (scalar)\n",
    "            Electron pressure in units of Pa or equivalent.\n",
    "        \"\"\"\n",
    "        partition_function = self.compute_partition_function(temperature)\n",
    "        electron_density = electron_pressure / (constants.k_B * temperature)\n",
    "        saha_const = ((2 * numpy.pi * constants.m_e * constants.k_B * temperature) / \n",
    "                      (constants.h ** 2)) ** (3 / 2)\n",
    "        nstage = numpy.zeros_like(partition_function) / units.m ** 3\n",
    "        nstage[0] = 1. / units.m ** 3\n",
    "        # Below we use the values for ionisation energies that are saved\n",
    "        # in the first index of each excited state: self.chi[r + 1, 0]\n",
    "        for r in range(self.n_stages - 1):\n",
    "            nstage[r + 1] = (nstage[r] / electron_density * 2 * saha_const *\n",
    "                             partition_function[r + 1] / partition_function[r] * \n",
    "                             numpy.exp(-self.chi_ion[r + 1, numpy.newaxis] / \n",
    "                                       (constants.k_B * temperature[numpy.newaxis])))\n",
    "        # nansum is needed because the last stage might have only one level\n",
    "        # (only ionisation potential)\n",
    "        return nstage / numpy.nansum(nstage, axis=0)\n",
    "\n",
    "    def compute_populations(self, temperature, electron_pressure):\n",
    "        \"\"\"\n",
    "        Computes relative level populations for all levels and all\n",
    "        ionisation stages using the Bolzmann and Saha laws.\n",
    "        \n",
    "        Parameters\n",
    "        ----------\n",
    "        temperature: astropy.units.quantity (scalar or array)\n",
    "            Gas temperature in units of K or equivalent.\n",
    "        electron_pressure: astropy.units.quantity (scalar)\n",
    "            Electron pressure in units of Pa or equivalent.\n",
    "        \"\"\"\n",
    "        return (self.compute_excitation(temperature) * \n",
    "                self.compute_ionisation(temperature, electron_pressure)[:, numpy.newaxis])\n",
    "\n",
    "    def plot_payne(self, temperature, electron_pressure):\n",
    "        \"\"\"\n",
    "        Plots the Payne curves for the current atom.\n",
    "        \n",
    "        Parameters\n",
    "        ----------\n",
    "        temperature: astropy.units.quantity (array)\n",
    "            Gas temperature in units of K or equivalent.\n",
    "        electron_pressure: astropy.units.quantity (scalar)\n",
    "            Electron pressure in units of Pa or equivalent.\n",
    "        \"\"\"\n",
    "        pops = self.compute_populations(temperature, electron_pressure)\n",
    "        fig, ax = plt.subplots()\n",
    "        ax.plot(numpy.tile(temperature, (self.n_stages, 1)).T, pops[:, 0].T, 'b-')\n",
    "        n_levels = self.chi.shape[1]\n",
    "        if n_levels > 1:\n",
    "            ax.plot(numpy.tile(temperature, (self.n_stages, 1)).T, pops[:, 1].T, 'r--')\n",
    "        if n_levels > 2:\n",
    "            ax.plot(numpy.tile(temperature, (self.n_stages, 1)).T, pops[:, 2].T, 'k:')\n",
    "        ax.set_yscale('log')\n",
    "        ax.set_ylim(1e-8, 1.1)\n",
    "        ax.set_xlabel('Temperature (K)')\n",
    "        ax.set_ylabel('Populations')"
   ]
  },
  {
   "cell_type": "markdown",
   "metadata": {},
   "source": [
    "## 1. Saha-Boltzmann calibration of the Harvard sequence (\"Cecilia Payne\")\n",
    "\n",
    "## 1.1 Payne’s line strength diagram\n",
    "\n",
    "## 1.2 The Boltzmann and Saha laws\n",
    "\n",
    "* Inspect the hydrogen energy level diagram in section 1.2. Which transitions correspond to the hydrogen lines in the image with stellar spectrograms (section 1)? Which transitions share lower levels and which share upper levels?\n",
    "\n",
    "* Payne's basic assumption was that the strength of the absorption lines observed in stellar spectra scales with the population density of the lower level of the corresponding transition. Why would she think so? (It is not correct, but generally stellar absorption lines do get stronger at larger lower-level population. In this exercise we follow her example and assume that the scaling is linear.)\n",
    "\n",
    "* Use this expectation to give initial rough estimates of the strength ratios of the $\\alpha$ lines in the the H I Lyman, Balmer, Paschen and Brackett series.\n"
   ]
  },
  {
   "cell_type": "markdown",
   "metadata": {},
   "source": [
    "**Answers:**\n",
    "\n",
    "* We only have H$\\beta$ in the diagram at $486.3$nm. This will share the lower level with the other balmer series in the diagram H$\\delta$ and H$\\gamma$. None of the transitions share upper levels.\n",
    "\n",
    "* She probably thought that the darker an absorbtion line is, there would be more atoms in the lower level since you would then have more atoms that could be excited to a higher state. This seems reasonable, but as one can see in the image of the spectrogram in section, the line for Ca$^+$ is very dark. We know that there is alot more hydrogen than calsium in a star so this assumption would not hold in this case."
   ]
  },
  {
   "cell_type": "code",
   "execution_count": 2,
   "metadata": {},
   "outputs": [
    {
     "name": "stdout",
     "output_type": "stream",
     "text": [
      "n_1/n_2 = 1.951e+08\n",
      "n_1/n_3 = 3.845e+09\n",
      "n_1/n_4 = 8.155e+09\n",
      "n_2/n_3 = 1.970e+01\n",
      "n_2/n_4 = 4.179e+01\n",
      "n_3/n_4 = 2.121e+00\n"
     ]
    }
   ],
   "source": [
    "T = 5780\n",
    "\n",
    "def ratio(g1, g2, xi1, xi2):\n",
    "    return(g1 * numpy.exp(-xi1/(constants.k_B*T*units.K))\n",
    "           / (g2 * numpy.exp(-xi2/(constants.k_B*T*units.K))))\n",
    "\n",
    "g = lambda s: 2 * s**2\n",
    "xi = lambda s: 13.598 * (1 - 1/s**2) * units.eV\n",
    "\n",
    "s = numpy.arange(1,5)\n",
    "\n",
    "g_arr   =  g(s)\n",
    "xi_arr = xi(s)\n",
    "\n",
    "for i in range(len(s)):\n",
    "    for j in range(len(s)):\n",
    "        if i !=j and i < j:\n",
    "            r = ratio(g_arr[i], g_arr[j], xi_arr[i], xi_arr[j])\n",
    "            print(\"n_{0:d}/n_{1:d} = {2:.3e}\".format(i+1, j+1, r))\n"
   ]
  },
  {
   "cell_type": "markdown",
   "metadata": {},
   "source": [
    "From this we can see that Lyman series gives the strongest absorbtion lines by far if we go with Payne´s assumption. Their ratio compared to the other series is in order of magnitude $10^8$ and $10^9$."
   ]
  },
  {
   "cell_type": "markdown",
   "metadata": {},
   "source": [
    "* Explain from equations (1) and (3) why the Saha and Boltzmann distributions behave differently for increasing temperature.\n",
    "* Speculate how ionisation can fully deplete a stage while excitation puts only a few atoms in levels just below the ionisation level. Hint: what is the limit of the Saha and Boltzman ratios for infinite temperature?"
   ]
  },
  {
   "cell_type": "markdown",
   "metadata": {},
   "source": [
    "*Answers:*\n",
    "\n",
    "* From equation (1), we have $\\frac{n_{r,s}{N_r}}{N_r}=\\frac{g_{r,s}}{U_r}e^{-\\chi/kT}$, and from equation (3) we have $\\frac{N_{r+1}}{N_r}=\\frac{1}{N_e}\\frac{2U_{r+1}}{U_r}(\\frac{2\\pi m_e kT}{h^2})^{3/2}e^{-\\chi_r/kT}$. We can see that the Saha law includes an extra T$^{3/2}$ term and will therefore behave differently than the boltsmann distribution. We also have a temperature dependency in $U_r$ where we sum over factors of $e^{-\\chi_r/kT}$ in the Boltzmann ratio. In the saha ratio we also have $U_{r+1}$ as well as $U_r$.\n",
    "\n",
    "* The Boltzmann ratio as a function of $T$ behaves as $r_B\\propto e^{\\chi/kT}$ and the Saha ratio behaves as $r_S\\propto T^{3/2}e^{\\chi/kT}$ where $r_B$ and $r_S$ denotes the Boltzmann and the Saha rations respectively. One can clearly see that the Boltzmann ratio converges to a constant as the temperature increases. The Saha ratio on the other hand goes to infinity as $T$ goes to infinity. When the Saha distribution goes to infinity as the temperature goes to infinity, we will have \"infinately\" more electrons on ionisation stage $r+1$ than on stage $r$. This means that as the temperature increases more and more atoms will be ionised untill all atoms are ionised. When all atoms are ionised all lower levels are fully depleted. When $T$ goes to infinity Boltzmann ratio reduces to approximately $$\\frac{n_{r,s}}{N_r}=\\frac\n",
    "{g_{r,s}}{\\sum_s g_{r,s}}.$$ If we look at the highest $s$, we can see that the ratio is still lower than one and for higher $s$ this ratio becomes smaller thereby putting only a few electrons in levels with high $s$ compared to the total number of electrons"
   ]
  },
  {
   "cell_type": "markdown",
   "metadata": {},
   "source": [
    "## 1.3 Saha-Boltzmann populations of a simplified Ca atom\n",
    "\n",
    "### 1.3.1 Partition function \n",
    "\n",
    "### 1.3.2 Compute the level populations according to the Boltzmann law\n",
    "\n",
    "### 1.3.3 Compute the ionisation fractions according to the Saha law\n",
    "\n",
    "### 1.3.4 Put things on an atom class\n",
    "\n",
    "* Using the simplified Ca atom (`Ca_atom.txt`), compute the partition functions $U_r$ for T=5000, 10000, and 20000 K. What can you say about the temperature dependence of $U_r$?\n",
    "\n",
    "* Plot a \"Payne curve\" for the simplified Ca atom using the same temperature range (100 - 175.000 K) and electron pressure (100 Pa)\n",
    "\n",
    "* Make a separate figure with a Payne curve for an element of your choice. You can choose one of the existing model atoms, or you can use the [NIST atomic spectra database](https://physics.nist.gov/PhysRefData/ASD/levels_form.html) to build a model for any atom you'd like. How does it compare with Ca?"
   ]
  },
  {
   "cell_type": "markdown",
   "metadata": {},
   "source": [
    "**Answers:**\n",
    "\n",
    "I have included the atom class as a seperate python file"
   ]
  },
  {
   "cell_type": "code",
   "execution_count": 3,
   "metadata": {},
   "outputs": [
    {
     "data": {
      "text/latex": [
       "$[[1.1688748,~3.4597805,~76.571511],~\n",
       " [2.1988903,~3.5523098,~16.062461],~\n",
       " [1,~1,~15.363286],~\n",
       " [4.8153548,~5.2769924,~18.305418],~\n",
       " [6.9135698,~8.0815264,~18.483504],~\n",
       " [2,~2,~2]] \\; \\mathrm{}$"
      ],
      "text/plain": [
       "<Quantity [[ 1.16887479,  3.45978054, 76.57151059],\n",
       "           [ 2.19889031,  3.55230978, 16.06246065],\n",
       "           [ 1.        ,  1.        , 15.36328636],\n",
       "           [ 4.8153548 ,  5.2769924 , 18.30541774],\n",
       "           [ 6.91356975,  8.0815264 , 18.48350426],\n",
       "           [ 2.        ,  2.        ,  2.        ]]>"
      ]
     },
     "execution_count": 3,
     "metadata": {},
     "output_type": "execute_result"
    }
   ],
   "source": [
    "Ca = Atom(\"Ca_atom.txt\")\n",
    "#Ca.read_atom(\"Ca_atom.txt\")\n",
    "\n",
    "T = numpy.array([5000, 10000, 200000]) * units.K\n",
    "Ca.compute_partition_function(T)"
   ]
  },
  {
   "cell_type": "markdown",
   "metadata": {},
   "source": [
    "Since we have $U_r=\\sum_sg_{r,s}e^{-\\chi/kT}$, we can see that as the, temperature increases the exponential function gets closer and closer to one. This wil make the partition function converge towards the sum over all $g_{r,s}$ which is constant."
   ]
  },
  {
   "cell_type": "code",
   "execution_count": 4,
   "metadata": {},
   "outputs": [
    {
     "data": {
      "application/vnd.jupyter.widget-view+json": {
       "model_id": "893459618326451ebd144adc44abcac0",
       "version_major": 2,
       "version_minor": 0
      },
      "text/plain": [
       "Canvas(toolbar=Toolbar(toolitems=[('Home', 'Reset original view', 'home', 'home'), ('Back', 'Back to previous …"
      ]
     },
     "metadata": {},
     "output_type": "display_data"
    },
    {
     "data": {
      "application/vnd.jupyter.widget-view+json": {
       "model_id": "1b935a9027994a99aac37bfc3a9a19f6",
       "version_major": 2,
       "version_minor": 0
      },
      "text/plain": [
       "Canvas(toolbar=Toolbar(toolitems=[('Home', 'Reset original view', 'home', 'home'), ('Back', 'Back to previous …"
      ]
     },
     "metadata": {},
     "output_type": "display_data"
    }
   ],
   "source": [
    "T = numpy.linspace(100, 175000, 1000) * units.K\n",
    "Ca.plot_payne(T, 100*units.Pa)\n",
    "\n",
    "He = Atom(\"He_atom.txt\")\n",
    "He.plot_payne(T, 100*units.Pa)"
   ]
  },
  {
   "cell_type": "markdown",
   "metadata": {},
   "source": [
    "Above there is shown a plot of the payne curve for Calsium and Helium. We can see from these figures that helium has only three ionization stages as it only has two electrons in the neutral state. Calsium on the other hand has alot more and this curve shows six ionization stages. One can also see from the dotted and slashed lines that Calsium has alot higher population for electrons in excited levels. One can also see that the population for the ionization stages I, II and III reaches its peak at much lower temperatures for calsium than for Helium."
   ]
  },
  {
   "cell_type": "markdown",
   "metadata": {},
   "source": [
    "## 1.4 Saha-Boltzmann Populations of Hydrogen\n",
    "\n",
    "* Using equations (4) and (5), create a model hydrogen atom with 100 levels and save it to a file with the same format. Compute the partition functions for both `H_atom.txt` and your 100-level model. How do they compare?"
   ]
  },
  {
   "cell_type": "markdown",
   "metadata": {},
   "source": [
    "*Answers:*\n"
   ]
  },
  {
   "cell_type": "code",
   "execution_count": 5,
   "metadata": {},
   "outputs": [
    {
     "name": "stdout",
     "output_type": "stream",
     "text": [
      "656701\n",
      "[[2.00000093e+00 2.09260790e+00 2.98412147e+05 1.35602733e+05]\n",
      " [1.00000000e+00 1.00000000e+00 1.00000000e+00 1.00000000e+00]]\n",
      "[[ 2.00000001  2.00009774 54.06876507 27.15686738]\n",
      " [ 1.          1.          1.          1.        ]]\n"
     ]
    }
   ],
   "source": [
    "s = numpy.arange(1,101)\n",
    "\n",
    "g_arr = g(s)\n",
    "chi_arr = xi(s).to(\"1/cm\",equivalencies=units.spectral())\n",
    "stage = numpy.zeros(len(s))\n",
    "stage[-1] = 1\n",
    "g_arr[-1] = 1\n",
    "\n",
    "ascii.write([chi_arr, g_arr, stage, s-1], \"task1dot4.txt\",\n",
    "             names = [\"# E (cm^-1)\", \"g\", \"stage\", \"level\"],\n",
    "             formats = {\"# E (cm^-1)\": \"%10.3f\", \"g\": \"%10.2f\", \"stage\": \"%2.2f\", \"level\": \"d\" },\n",
    "             overwrite = True,\n",
    "             format=\"fixed_width\",\n",
    "             bookend = False,\n",
    "             delimiter = None)\n",
    "\n",
    "H_selfmade    = Atom(\"task1dot4.txt\")\n",
    "H_problemtext = Atom(\"H_atom.txt\")\n",
    "\n",
    "T = numpy.array([5780, 10000, 200000, 100000]) * units.K\n",
    "print(numpy.sum(g_arr))\n",
    "print(H_selfmade.compute_partition_function(T))\n",
    "print(H_problemtext.compute_partition_function(T))"
   ]
  },
  {
   "cell_type": "markdown",
   "metadata": {},
   "source": [
    "We can see that for low temperatures the partition function remains relatively similar. As the temperature increases however, the factor $e^{-\\chi_{r,s}/kT}$ gets closer and closer to one. This makes the partition function converge towards the sum over all $g_{r,s}$. In the text file *H_atom.txt* we only have six different levels. In our generated file however, we chose to use 100 levels. This makes for a larger amount of statistic weights to sum up and therefore we get a partition function with a value that is a lot larger."
   ]
  },
  {
   "cell_type": "markdown",
   "metadata": {},
   "source": [
    "## 1.5 Solar Ca$^+$K versus H$\\alpha$: line strength\n",
    "\n",
    "* Explain qualitatively why the solar Ca$^+$ K line is much stronger than the solar H$\\alpha$ line, even though hydrogen is not ionised in the solar photosphere and low chromosphere ($T \\approx$ 4000 - 6000 K) where these lines are formed, and even though the solar Ca/H abundance ratio is only $N_\\mathrm{Ca}/N_\\mathrm{H} = 2 \\times 10^{−6}$. Assume again that the observed line strength scales with the lower-level population density (which it does, although nonlinearly through a \"curve of growth\" as you will see in an exercise below).\n",
    "\n",
    "* Prove your explanation by computing and plotting the expected strength ratio of these two lines as function of temperature for $P_e = 10^2$ dyne cm$^{-2}$. Make use of `H_atom.txt` and `Ca_atom.txt`.\n"
   ]
  },
  {
   "cell_type": "markdown",
   "metadata": {},
   "source": [
    "*Answers:*\n",
    "\n",
    "If we assume Payne´s assumption the strength of a line is proportional to the population at lower levels. If we look at the ratio $$\\frac{n_{Ca^+}N_{Ca}}{n_{H\\alpha}N_H},$$\n",
    "Where $n$ denotes the number of atoms in a given state and $N$ denotes the total number density of the corresponding atom at any ionization level. While the the ratio $N_{Ca}/N_{H}$ is small, the ratio $n_{Ca+}/n_{H\\alpha}$ can be larger, making the total ratio $\\frac{n_{Ca^+}N_{Ca}}{n_{H\\alpha}N_H}$ larger than one."
   ]
  },
  {
   "cell_type": "code",
   "execution_count": 6,
   "metadata": {},
   "outputs": [],
   "source": [
    "h_atom = Atom(\"H_atom.txt\")\n",
    "ca_atom = Atom(\"Ca_atom.txt\")\n",
    "temp = numpy.linspace(4000, 6000, 1000) * units.K\n",
    "\n",
    "e_press = (100 *units.dyne/units.cm**2).to(\"Pa\")\n",
    "\n",
    "h_pops = h_atom.compute_populations(temp, e_press)\n",
    "ca_pops = ca_atom.compute_populations(temp, e_press)\n",
    "\n",
    "ratio = 2e-6 * ca_pops[1,0]/h_pops[0,1]\n",
    "\n",
    "plt.semilogy(temp, ratio)\n",
    "plt.xlabel(\"Temperature (K)\")\n",
    "plt.ylabel(r\"$\\frac{n_{Ca^+}N_{Ca}}{n_{H\\alpha}N_H}$\")\n",
    "plt.show()\n"
   ]
  },
  {
   "cell_type": "markdown",
   "metadata": {},
   "source": [
    "From this we can see thaty the population of $Ca^+$ is alot larger than $H\\alpha$"
   ]
  },
  {
   "cell_type": "markdown",
   "metadata": {},
   "source": [
    "## 1.6 Solar Ca$^+$K versus H$\\alpha$: temperature sensitivity\n",
    "\n",
    "* Plotting the relative population changes $(\\Delta n_\\mathrm{Ca} / \\Delta T) / n_\\mathrm{Ca}$ and $(\\Delta n_\\mathrm{H} /  \\Delta T) / n_\\mathrm{H}$ for the lower levels of Ca$^+$K and H$\\alpha$, using $\\Delta T=$ 1 K.\n",
    "\n",
    "* Around $T=$ 5600 K the Ca$^+$K curve dips down to very  small values; the H$\\alpha$ curve does that around $T=$ 9500  K. Thus, for $T \\approx$ 5600 K the temperature sensitivity of Ca$^+$K is much smaller than the temperature sensitivity of H$\\alpha$. Each dip has a $\\Delta n > 0$ and a $\\Delta n < 0$ flank.  Which is which? (The dips can be diagnosed by overplotting the variation with temperature of each population in relative units.) \n",
    "\n",
    "* Explain each flank of the two population curves and the dips in the two temperature sensitivity curves.\n",
    "\n",
    "* Find at which temperature the hydrogen in stellar photospheres with $P_e =$ 10 Pa is about 50% ionised. Plot the neutral and ionised fractions of hydrogen as a function of temperature."
   ]
  },
  {
   "cell_type": "markdown",
   "metadata": {},
   "source": [
    "*Answers:*\n"
   ]
  },
  {
   "cell_type": "code",
   "execution_count": 7,
   "metadata": {},
   "outputs": [
    {
     "data": {
      "application/vnd.jupyter.widget-view+json": {
       "model_id": "93e920bb4bcb4111864cdacc9d5a92fc",
       "version_major": 2,
       "version_minor": 0
      },
      "text/plain": [
       "Canvas(toolbar=Toolbar(toolitems=[('Home', 'Reset original view', 'home', 'home'), ('Back', 'Back to previous …"
      ]
     },
     "metadata": {},
     "output_type": "display_data"
    }
   ],
   "source": [
    "e_press = 10 * units.Pa\n",
    "temp = numpy.linspace(2000, 12000, 1000) * units.K\n",
    "dT = 1 * units.K\n",
    "\n",
    "ca_atom = Atom(\"Ca_atom.txt\")\n",
    "n_ca1 = ca_atom.compute_populations(temp, e_press)[1, 0]\n",
    "n_ca2 = ca_atom.compute_populations(temp - dT, e_press)[1, 0]\n",
    "diff_ca = (n_ca1 - n_ca2) / (dT * n_ca1)\n",
    "\n",
    "h_atom = Atom(\"H_atom.txt\")\n",
    "n_h1 = h_atom.compute_populations(temp, e_press)[0, 1]\n",
    "n_h2 = h_atom.compute_populations(temp - dT, e_press)[0, 1]\n",
    "diff_h = (n_h1 - n_h2) / (dT * n_h1)\n",
    "\n",
    "fig, ax = plt.subplots(nrows=2)\n",
    "ax[0].plot(temp, numpy.abs(diff_h), label=r'H')\n",
    "ax[0].plot(temp, numpy.abs(diff_ca), label=r'Ca$^+$K')\n",
    "ax[0].legend()\n",
    "ax[0].set_ylabel(r'$(\\Delta n_i / \\Delta T) / n_i$')\n",
    "\n",
    "ax[1].plot(temp, n_h1 / n_h1.max(), '--',  label='H')\n",
    "ax[1].plot(temp, n_ca1 / n_ca1.max(), '--', label=r'Ca$^+$')\n",
    "ax[1].set_yscale('log')\n",
    "ax[1].legend()\n",
    "ax[1].set_ylabel('Relative populations')\n",
    "ax[1].set_xlabel('Temperature (K)');"
   ]
  },
  {
   "cell_type": "markdown",
   "metadata": {},
   "source": [
    "From this figure, we can see that the derivative of the curve is positive on the left flank (temperature smaller than approximately 9000K), Thereby giving $\\Delta n > 0$. This gives $\\Delta n < 0$ on the right side.\n",
    "Ikke glem resten av oppgavene.\n"
   ]
  },
  {
   "cell_type": "code",
   "execution_count": 8,
   "metadata": {},
   "outputs": [
    {
     "name": "stdout",
     "output_type": "stream",
     "text": [
      "9217.217217217218 K\n"
     ]
    }
   ],
   "source": [
    "h_pops = h_atom.compute_populations(temp, e_press)\n",
    "#print(numpy.shape(h_pops[1,4,:]))\n",
    "closest_index = numpy.argmin(numpy.abs(h_pops[1,0,:] - 0.5))\n",
    "\n",
    "print(temp[closest_index])"
   ]
  },
  {
   "cell_type": "markdown",
   "metadata": {},
   "source": [
    "## 2. Fraunhofer line strengths and the curve of growth (\"Marcel Minnaert\")\n",
    "\n",
    "    \n",
    "### 2.1 The Planck law\n",
    "\n",
    "* Plot the Planck function $B_\\lambda$ for 100 $< \\lambda <$ 2000 nm for a range of temperatures (5000 to 8000 K). Use a log scale for both the x and y axes. Explain the slopes of the righthand part."
   ]
  },
  {
   "cell_type": "markdown",
   "metadata": {},
   "source": [
    "*Answers:*"
   ]
  },
  {
   "cell_type": "code",
   "execution_count": 9,
   "metadata": {},
   "outputs": [
    {
     "data": {
      "application/vnd.jupyter.widget-view+json": {
       "model_id": "ff0f13c30b2f421181859de456766478",
       "version_major": 2,
       "version_minor": 0
      },
      "text/plain": [
       "Canvas(toolbar=Toolbar(toolitems=[('Home', 'Reset original view', 'home', 'home'), ('Back', 'Back to previous …"
      ]
     },
     "metadata": {},
     "output_type": "display_data"
    }
   ],
   "source": [
    "from astropy.modeling.blackbody import blackbody_lambda\n",
    "i_units = \"kW m-2 sr-1 nm-1\"\n",
    "\n",
    "wave = numpy.linspace(100, 2000, 100) * units.nm\n",
    "temp = numpy.linspace(5000, 8000, 15) * units.K\n",
    "\n",
    "# Extend wave and temp to calculate blackbody radiation all at once\n",
    "radiation = blackbody_lambda(wave[:, numpy.newaxis], temp[numpy.newaxis])\n",
    "\n",
    "fig, ax = plt.subplots()\n",
    "custom_cycler = cycler('color', cm.plasma(numpy.linspace(0, 1, len(temp))))\n",
    "ax.set_prop_cycle(custom_cycler)  # optional, change default colours of plots\n",
    "ax.loglog(wave, radiation.to(i_units));"
   ]
  },
  {
   "cell_type": "markdown",
   "metadata": {},
   "source": [
    "We can see that in the logarithmic axes the function converges to a linear slope as $\\lambda$ goes to infinity. From a blackbody spectra in regular axes we can see that when the wavelength goes to infinity, $B_\\lambda$ goes to zero. In logarithmic axes we will then get a linear slope that goes towards $10^{-\\infty}$. Spør om dette!."
   ]
  },
  {
   "cell_type": "markdown",
   "metadata": {},
   "source": [
    "### 2.2 Radiation through an isothermal layer\n",
    "\n",
    "* Use equation (11) to calculate the radiation through an isothermal layer. Make plots of $I_\\lambda$ for the different values of $I_\\lambda(0)$, using the following values:\n",
    "\n",
    "``` python\n",
    "b_lambda = 2\n",
    "tau = numpy.logspace(-2, 1, 100)\n",
    "i0 = numpy.arange(5)\n",
    "```\n",
    "    \n",
    "* How does $I_\\lambda$ depend on $\\tau$ for $\\tau \\ll 1$ when $I_\\lambda(0) =0$ (hint: use a log scale in the x and y axes to study the behavior at small $\\tau$)?  And when $I_\\lambda(0) > B_\\lambda$? Such a layer with $\\tau \\ll 1$ is called \"optically thin\", why? Would \"radiatively thin\" be a better name?\n",
    " \n",
    "* A layer is called \"optically thick\" when it has $\\tau \\gg 1$. Why? The emergent intensity becomes independent of $\\tau$ for large $\\tau$. Can you explain why this is so in physical terms? "
   ]
  },
  {
   "cell_type": "markdown",
   "metadata": {},
   "source": [
    "*Answer:*"
   ]
  },
  {
   "cell_type": "code",
   "execution_count": 11,
   "metadata": {},
   "outputs": [
    {
     "name": "stdout",
     "output_type": "stream",
     "text": [
      "heieh\n",
      "heieh\n",
      "heieh\n",
      "heieh\n",
      "heieh\n"
     ]
    }
   ],
   "source": [
    "b_lambda = 2\n",
    "tau = numpy.logspace(-2, 1, 100)\n",
    "i0 = numpy.arange(5)\n",
    "\n",
    "def I_lambda(tau, I0):\n",
    "    return(I0*numpy.exp(-tau) + b_lambda*(1 - numpy.exp(-tau)))\n",
    "\n",
    "\n",
    "for i in i0:\n",
    "    plt.plot(tau, I_lambda(tau, i), label=\"I0 = {0}\".format(i))\n",
    "plt.legend()\n",
    "plt.show()"
   ]
  },
  {
   "cell_type": "markdown",
   "metadata": {},
   "source": [
    "## 2.3 Spectral lines from a solar reversing layer\n",
    "\n",
    "\n",
    "### 2.3.1 Schuster-Schwarzschild model\n",
    "\n",
    "### 2.3.2 Voigt profile\n",
    "\n",
    "### 2.3.3 Emergent line profiles\n",
    "\n",
    "* Compute and plot the emergent line profiles using a Schuster-Schwarzschild model, using the code provided. Try changing the parameters (`temp_surface`, `temp_layer`, `a`, `tau0`) to see if you can obtain a saturated line profile (flat bottom). Which parameter(s) are more important in determining this?\n",
    "\n",
    "* Make a plot of line profiles with different $\\tau_0$, using `tau0 = 10 ** numpy.linspace(-2, 2, 9)`. How do you explain the profile shapes for $\\tau(0) \\ll 1$? Why is there a low-intensity saturation limit for $\\tau \\gg 1$? Why do the line wings develop only for very large $\\tau(0)$? Where do the wings end? For which values of $\\tau(0)$ is the layer optically thin, respectively optically thick, at line center? And at $u=5$?\n",
    "\n",
    "* Now study the dependence of these line profiles on wavelength by repeating the above for $\\lambda=$ 200 nm (ultraviolet) and $\\lambda=$ 1000 nm (near infrared). What sets the top value $I_{\\rm cont}$ and the limit value reached at line center by $I(0)$? Check these values by computing them directly. What happens to these values at other wavelengths?  \n",
    "\n",
    "* Make a figure with plots for the above: line profiles for several values of $\\tau_0$, and the three different wavelengths (200, 500, and 1000 nm). However, normalise each line profile by its continuum intensity: `intensity /= intensity[0]` (observed spectra are usually normalised this way because absolute calibrations are often missing). Explain the wavelength dependencies in this plot."
   ]
  },
  {
   "cell_type": "markdown",
   "metadata": {},
   "source": [
    "*Your answers here*"
   ]
  },
  {
   "cell_type": "markdown",
   "metadata": {},
   "source": [
    "## 2.4 The equivalent width of spectral lines\n",
    "\n",
    "\n",
    "## 2.5 The curve of growth\n",
    "\n",
    "* Compute and plot a curve of growth by plotting $W_\\lambda$ against $\\tau_0$ on a log-log plot. Explain what happens in the three different parts.  \n",
    "\n",
    "* The first part has slope 1:1, the third part has slope 1:2 in this log-log plot.  Why?\n",
    "\n",
    "* Which parameter controls the location of the onset of the third part? Give a rough estimate of its value for solar iron lines through comparison with the given figure from Wright (1948).\n",
    "\n",
    "* Which parameter should you increase to produce emission lines instead of absorption lines? Change it accordingly and modify the code to produce emission profiles and an emission-line curve of growth. (To avoid taking the log of negative $W_\\lambda$, plot the absolute value of $W_\\lambda$.)"
   ]
  },
  {
   "cell_type": "markdown",
   "metadata": {},
   "source": [
    "*Your answers here*"
   ]
  }
 ],
 "metadata": {
  "kernelspec": {
   "display_name": "Python 3",
   "language": "python",
   "name": "python3"
  },
  "language_info": {
   "codemirror_mode": {
    "name": "ipython",
    "version": 3
   },
   "file_extension": ".py",
   "mimetype": "text/x-python",
   "name": "python",
   "nbconvert_exporter": "python",
   "pygments_lexer": "ipython3",
   "version": "3.7.3"
  }
 },
 "nbformat": 4,
 "nbformat_minor": 4
}
